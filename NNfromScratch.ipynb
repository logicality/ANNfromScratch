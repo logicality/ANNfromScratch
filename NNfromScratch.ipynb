{
 "cells": [
  {
   "cell_type": "code",
   "execution_count": 30,
   "id": "51b30c36",
   "metadata": {},
   "outputs": [],
   "source": [
    "# standard libraries to import\n",
    "import numpy as np\n",
    "import pandas as pd\n",
    "from matplotlib import pyplot as plt"
   ]
  },
  {
   "cell_type": "code",
   "execution_count": 31,
   "id": "e677995f",
   "metadata": {},
   "outputs": [],
   "source": [
    "# import training data\n",
    "data = pd.read_csv('data/train.csv')"
   ]
  },
  {
   "cell_type": "code",
   "execution_count": 32,
   "id": "6661cbbc",
   "metadata": {},
   "outputs": [
    {
     "data": {
      "text/html": [
       "<div>\n",
       "<style scoped>\n",
       "    .dataframe tbody tr th:only-of-type {\n",
       "        vertical-align: middle;\n",
       "    }\n",
       "\n",
       "    .dataframe tbody tr th {\n",
       "        vertical-align: top;\n",
       "    }\n",
       "\n",
       "    .dataframe thead th {\n",
       "        text-align: right;\n",
       "    }\n",
       "</style>\n",
       "<table border=\"1\" class=\"dataframe\">\n",
       "  <thead>\n",
       "    <tr style=\"text-align: right;\">\n",
       "      <th></th>\n",
       "      <th>label</th>\n",
       "      <th>pixel0</th>\n",
       "      <th>pixel1</th>\n",
       "      <th>pixel2</th>\n",
       "      <th>pixel3</th>\n",
       "      <th>pixel4</th>\n",
       "      <th>pixel5</th>\n",
       "      <th>pixel6</th>\n",
       "      <th>pixel7</th>\n",
       "      <th>pixel8</th>\n",
       "      <th>...</th>\n",
       "      <th>pixel774</th>\n",
       "      <th>pixel775</th>\n",
       "      <th>pixel776</th>\n",
       "      <th>pixel777</th>\n",
       "      <th>pixel778</th>\n",
       "      <th>pixel779</th>\n",
       "      <th>pixel780</th>\n",
       "      <th>pixel781</th>\n",
       "      <th>pixel782</th>\n",
       "      <th>pixel783</th>\n",
       "    </tr>\n",
       "  </thead>\n",
       "  <tbody>\n",
       "    <tr>\n",
       "      <th>0</th>\n",
       "      <td>1</td>\n",
       "      <td>0</td>\n",
       "      <td>0</td>\n",
       "      <td>0</td>\n",
       "      <td>0</td>\n",
       "      <td>0</td>\n",
       "      <td>0</td>\n",
       "      <td>0</td>\n",
       "      <td>0</td>\n",
       "      <td>0</td>\n",
       "      <td>...</td>\n",
       "      <td>0</td>\n",
       "      <td>0</td>\n",
       "      <td>0</td>\n",
       "      <td>0</td>\n",
       "      <td>0</td>\n",
       "      <td>0</td>\n",
       "      <td>0</td>\n",
       "      <td>0</td>\n",
       "      <td>0</td>\n",
       "      <td>0</td>\n",
       "    </tr>\n",
       "    <tr>\n",
       "      <th>1</th>\n",
       "      <td>0</td>\n",
       "      <td>0</td>\n",
       "      <td>0</td>\n",
       "      <td>0</td>\n",
       "      <td>0</td>\n",
       "      <td>0</td>\n",
       "      <td>0</td>\n",
       "      <td>0</td>\n",
       "      <td>0</td>\n",
       "      <td>0</td>\n",
       "      <td>...</td>\n",
       "      <td>0</td>\n",
       "      <td>0</td>\n",
       "      <td>0</td>\n",
       "      <td>0</td>\n",
       "      <td>0</td>\n",
       "      <td>0</td>\n",
       "      <td>0</td>\n",
       "      <td>0</td>\n",
       "      <td>0</td>\n",
       "      <td>0</td>\n",
       "    </tr>\n",
       "    <tr>\n",
       "      <th>2</th>\n",
       "      <td>1</td>\n",
       "      <td>0</td>\n",
       "      <td>0</td>\n",
       "      <td>0</td>\n",
       "      <td>0</td>\n",
       "      <td>0</td>\n",
       "      <td>0</td>\n",
       "      <td>0</td>\n",
       "      <td>0</td>\n",
       "      <td>0</td>\n",
       "      <td>...</td>\n",
       "      <td>0</td>\n",
       "      <td>0</td>\n",
       "      <td>0</td>\n",
       "      <td>0</td>\n",
       "      <td>0</td>\n",
       "      <td>0</td>\n",
       "      <td>0</td>\n",
       "      <td>0</td>\n",
       "      <td>0</td>\n",
       "      <td>0</td>\n",
       "    </tr>\n",
       "    <tr>\n",
       "      <th>3</th>\n",
       "      <td>4</td>\n",
       "      <td>0</td>\n",
       "      <td>0</td>\n",
       "      <td>0</td>\n",
       "      <td>0</td>\n",
       "      <td>0</td>\n",
       "      <td>0</td>\n",
       "      <td>0</td>\n",
       "      <td>0</td>\n",
       "      <td>0</td>\n",
       "      <td>...</td>\n",
       "      <td>0</td>\n",
       "      <td>0</td>\n",
       "      <td>0</td>\n",
       "      <td>0</td>\n",
       "      <td>0</td>\n",
       "      <td>0</td>\n",
       "      <td>0</td>\n",
       "      <td>0</td>\n",
       "      <td>0</td>\n",
       "      <td>0</td>\n",
       "    </tr>\n",
       "    <tr>\n",
       "      <th>4</th>\n",
       "      <td>0</td>\n",
       "      <td>0</td>\n",
       "      <td>0</td>\n",
       "      <td>0</td>\n",
       "      <td>0</td>\n",
       "      <td>0</td>\n",
       "      <td>0</td>\n",
       "      <td>0</td>\n",
       "      <td>0</td>\n",
       "      <td>0</td>\n",
       "      <td>...</td>\n",
       "      <td>0</td>\n",
       "      <td>0</td>\n",
       "      <td>0</td>\n",
       "      <td>0</td>\n",
       "      <td>0</td>\n",
       "      <td>0</td>\n",
       "      <td>0</td>\n",
       "      <td>0</td>\n",
       "      <td>0</td>\n",
       "      <td>0</td>\n",
       "    </tr>\n",
       "  </tbody>\n",
       "</table>\n",
       "<p>5 rows × 785 columns</p>\n",
       "</div>"
      ],
      "text/plain": [
       "   label  pixel0  pixel1  pixel2  pixel3  pixel4  pixel5  pixel6  pixel7  \\\n",
       "0      1       0       0       0       0       0       0       0       0   \n",
       "1      0       0       0       0       0       0       0       0       0   \n",
       "2      1       0       0       0       0       0       0       0       0   \n",
       "3      4       0       0       0       0       0       0       0       0   \n",
       "4      0       0       0       0       0       0       0       0       0   \n",
       "\n",
       "   pixel8  ...  pixel774  pixel775  pixel776  pixel777  pixel778  pixel779  \\\n",
       "0       0  ...         0         0         0         0         0         0   \n",
       "1       0  ...         0         0         0         0         0         0   \n",
       "2       0  ...         0         0         0         0         0         0   \n",
       "3       0  ...         0         0         0         0         0         0   \n",
       "4       0  ...         0         0         0         0         0         0   \n",
       "\n",
       "   pixel780  pixel781  pixel782  pixel783  \n",
       "0         0         0         0         0  \n",
       "1         0         0         0         0  \n",
       "2         0         0         0         0  \n",
       "3         0         0         0         0  \n",
       "4         0         0         0         0  \n",
       "\n",
       "[5 rows x 785 columns]"
      ]
     },
     "execution_count": 32,
     "metadata": {},
     "output_type": "execute_result"
    }
   ],
   "source": [
    "# each row is a training example, i.e. each row is an image\n",
    "data.head()"
   ]
  },
  {
   "cell_type": "code",
   "execution_count": 33,
   "id": "e465aca8",
   "metadata": {},
   "outputs": [
    {
     "data": {
      "text/plain": [
       "array([[1, 0, 0, ..., 0, 0, 0],\n",
       "       [0, 0, 0, ..., 0, 0, 0],\n",
       "       [1, 0, 0, ..., 0, 0, 0],\n",
       "       ...,\n",
       "       [7, 0, 0, ..., 0, 0, 0],\n",
       "       [6, 0, 0, ..., 0, 0, 0],\n",
       "       [9, 0, 0, ..., 0, 0, 0]])"
      ]
     },
     "execution_count": 33,
     "metadata": {},
     "output_type": "execute_result"
    }
   ],
   "source": [
    "# convert data to numpy array\n",
    "data = np.array(data)\n",
    "data"
   ]
  },
  {
   "cell_type": "code",
   "execution_count": 34,
   "id": "a9cf936e",
   "metadata": {},
   "outputs": [
    {
     "data": {
      "text/plain": [
       "(42000, 785)"
      ]
     },
     "execution_count": 34,
     "metadata": {},
     "output_type": "execute_result"
    }
   ],
   "source": [
    "# row, column (column is +1 cause of label column)\n",
    "m, n = data.shape\n",
    "m,n"
   ]
  },
  {
   "cell_type": "code",
   "execution_count": 35,
   "id": "bd595bc4",
   "metadata": {},
   "outputs": [
    {
     "data": {
      "text/plain": [
       "array([[4, 0, 0, ..., 0, 0, 0],\n",
       "       [6, 0, 0, ..., 0, 0, 0],\n",
       "       [6, 0, 0, ..., 0, 0, 0],\n",
       "       ...,\n",
       "       [4, 0, 0, ..., 0, 0, 0],\n",
       "       [3, 0, 0, ..., 0, 0, 0],\n",
       "       [0, 0, 0, ..., 0, 0, 0]])"
      ]
     },
     "execution_count": 35,
     "metadata": {},
     "output_type": "execute_result"
    }
   ],
   "source": [
    "# shuffle the elements, in-place\n",
    "# essentially,k shuffles the order of images, since an element (a list) is an image\n",
    "np.random.shuffle(data)\n",
    "data"
   ]
  },
  {
   "cell_type": "code",
   "execution_count": 36,
   "id": "d213b72e",
   "metadata": {},
   "outputs": [],
   "source": [
    "# validation set: transforming to make each training example a column\n",
    "data_dev = data[0:1000].T\n",
    "# since first row is labels now, this works cause of the transform\n",
    "Y_dev = data_dev[0]\n",
    "X_dev = data_dev[1:n]\n",
    "# normalize values, this is an important step, but why? \n",
    "# it's probably because the weights are so small, they work better with smaller values, maybe\n",
    "# also easier to process smaller values\n",
    "X_dev = X_dev / 255\n",
    "\n",
    "# training data\n",
    "data_train = data[1000:m].T\n",
    "Y_train = data_train[0]\n",
    "X_train = data_train[1:n]\n",
    "X_train = X_train / 255"
   ]
  },
  {
   "cell_type": "code",
   "execution_count": 37,
   "id": "bf2f788e",
   "metadata": {},
   "outputs": [
    {
     "data": {
      "text/plain": [
       "array([5, 6, 8, ..., 4, 3, 0])"
      ]
     },
     "execution_count": 37,
     "metadata": {},
     "output_type": "execute_result"
    }
   ],
   "source": [
    "Y_train # our labels"
   ]
  },
  {
   "cell_type": "code",
   "execution_count": 38,
   "id": "35dc6be1",
   "metadata": {},
   "outputs": [
    {
     "data": {
      "text/plain": [
       "array([[0., 0., 0., ..., 0., 0., 0.],\n",
       "       [0., 0., 0., ..., 0., 0., 0.],\n",
       "       [0., 0., 0., ..., 0., 0., 0.],\n",
       "       ...,\n",
       "       [0., 0., 0., ..., 0., 0., 0.],\n",
       "       [0., 0., 0., ..., 0., 0., 0.],\n",
       "       [0., 0., 0., ..., 0., 0., 0.]])"
      ]
     },
     "execution_count": 38,
     "metadata": {},
     "output_type": "execute_result"
    }
   ],
   "source": [
    "X_train # our image data"
   ]
  },
  {
   "cell_type": "code",
   "execution_count": 39,
   "id": "6ba1141f",
   "metadata": {},
   "outputs": [
    {
     "data": {
      "text/plain": [
       "array([0., 0., 0., ..., 0., 0., 0.])"
      ]
     },
     "execution_count": 39,
     "metadata": {},
     "output_type": "execute_result"
    }
   ],
   "source": [
    "X_train[0]"
   ]
  },
  {
   "cell_type": "code",
   "execution_count": 40,
   "id": "ee88399e",
   "metadata": {},
   "outputs": [
    {
     "data": {
      "text/plain": [
       "(41000,)"
      ]
     },
     "execution_count": 40,
     "metadata": {},
     "output_type": "execute_result"
    }
   ],
   "source": [
    "X_train[0].shape # this is the first row, cause there are 42k samples in total"
   ]
  },
  {
   "cell_type": "code",
   "execution_count": 41,
   "id": "98aa8435",
   "metadata": {},
   "outputs": [
    {
     "data": {
      "text/plain": [
       "(784, 41000)"
      ]
     },
     "execution_count": 41,
     "metadata": {},
     "output_type": "execute_result"
    }
   ],
   "source": [
    "# gives rows, cols. Makes sense, cause each column is an example\n",
    "# so # of rows will be # of pixels in an image essentially\n",
    "X_train[:].shape "
   ]
  },
  {
   "cell_type": "code",
   "execution_count": 42,
   "id": "f363048d",
   "metadata": {},
   "outputs": [
    {
     "data": {
      "text/plain": [
       "(784,)"
      ]
     },
     "execution_count": 42,
     "metadata": {},
     "output_type": "execute_result"
    }
   ],
   "source": [
    "X_train[:,0].shape # this is the first column, essentially first element of each list"
   ]
  },
  {
   "cell_type": "code",
   "execution_count": 43,
   "id": "3f9e4b1d",
   "metadata": {},
   "outputs": [
    {
     "data": {
      "text/plain": [
       "0.18145974149916133"
      ]
     },
     "execution_count": 43,
     "metadata": {},
     "output_type": "execute_result"
    }
   ],
   "source": [
    "# randn: mean = 0, variance = 1, normal distribution\n",
    "# rand: uniform distribution over [0,1)]\n",
    "np.random.rand()"
   ]
  },
  {
   "cell_type": "code",
   "execution_count": 44,
   "id": "ee168197",
   "metadata": {},
   "outputs": [],
   "source": [
    "# weights and biases for the hidden and output layer\n",
    "def init_params():\n",
    "    W1 = np.random.rand(10, 784) - 0.5 # why 0.5? cause weights can be negative as well\n",
    "    B1 = np.random.rand(10, 1) - 0.5\n",
    "    \n",
    "    W2 = np.random.rand(10, 10) - 0.5\n",
    "    B2 = np.random.rand(10, 1) - 0.5\n",
    "    \n",
    "    return W1, B1, W2, B2\n",
    "\n",
    "# essentially linear after 0, prior to 0, outputs 0\n",
    "def ReLU(Z):\n",
    "    return np.maximum(Z, 0) # element wise\n",
    "\n",
    "# need clarification here...\n",
    "def softmax(Z):\n",
    "    # np.sum() preserves each column, collapses the rows\n",
    "    # we still want to preserve each column\n",
    "    # np.exp(Z) is element wise\n",
    "    # so we are dividing each element with the sum of elements in that same column\n",
    "    A = np.exp(Z) / sum(np.exp(Z)) # not np.sum()?\n",
    "    \n",
    "    return A\n",
    "\n",
    "# encoding labels into a vector format\n",
    "def one_hot(Y):\n",
    "    # creating empty matrix of sampleSize, # of classes\n",
    "    one_hot_Y = np.zeros((Y.size, Y.max()+1))\n",
    "    # based on the label value, fill that element in each array to be 1\n",
    "    one_hot_Y[np.arange(Y.size), Y] = 1\n",
    "    # to get each column to be an example\n",
    "    one_hot_Y = one_hot_Y.T\n",
    "    \n",
    "    return one_hot_Y\n",
    "    \n",
    "def forward_prop(W1, B1, W2, B2, X):\n",
    "    Z1 = W1.dot(X) + B1\n",
    "    A1 = ReLU(Z1)\n",
    "    \n",
    "    Z2 = W2.dot(A1) + B2\n",
    "    A2 = softmax(Z2)\n",
    "    \n",
    "    return Z1, A1, Z2, A2\n",
    "\n",
    "# derivative past 0 is 1, cause y=x, prior to 0, it's 0. So this returns 1 or 0\n",
    "def deriv_ReLU(Z):\n",
    "    return Z > 0\n",
    "\n",
    "def back_prop(Z1, A1, Z2, A2, W1, W2, X, Y):\n",
    "    # m = # of examples\n",
    "    m = Y.size\n",
    "    one_hot_Y = one_hot(Y)\n",
    "    \n",
    "    dZ2 = A2 - one_hot_Y\n",
    "    dW2 = 1/m * dZ2.dot(A1.T)\n",
    "    dB2 = 1/m * np.sum(dZ2)\n",
    "    \n",
    "    dZ1 = W2.T.dot(dZ2) * deriv_ReLU(Z1)\n",
    "    dW1 = 1/m * dZ1.dot(X.T)\n",
    "    dB1 = 1/m * np.sum(dZ1) \n",
    "    \n",
    "    return dW1, dB1, dW2, dB2\n",
    "\n",
    "# optimizer, based on alpha (learning rate)\n",
    "def update_params(W1, B1, W2, B2, dW1, dB1, dW2, dB2, alpha):\n",
    "    W1 = W1 - alpha * dW1\n",
    "    B1 = B1 - alpha * dB1\n",
    "    W2 = W2 - alpha * dW2\n",
    "    B2 = B1 - alpha * dB2\n",
    "    \n",
    "    return W1, B1, W2, B2"
   ]
  },
  {
   "cell_type": "code",
   "execution_count": 45,
   "id": "5ee1e687",
   "metadata": {},
   "outputs": [],
   "source": [
    "# cause A2 is the output of output layer, in probabilities \n",
    "def get_predictions(A2):\n",
    "    return np.argmax(A2, 0)\n",
    "\n",
    "def get_accuracy(predictions, Y):\n",
    "    print(predictions, Y)\n",
    "    # essentially when prediciton matches Y, sum those, vs. total Y size\n",
    "    return np.sum(predictions == Y) / Y.size \n",
    "\n",
    "def gradient_descent(X, Y, iterations, alpha):\n",
    "    W1, B1, W2, B2 = init_params()\n",
    "    \n",
    "    for i in range(iterations):\n",
    "        Z1, A1, Z2, A2 = forward_prop(W1, B1, W2, B2, X)\n",
    "        dW1, dB1, dW2, dB2 = back_prop(Z1, A1, Z2, A2, W1, W2, X, Y)\n",
    "        W1, B1, W2, B2 = update_params(W1, B1, W2, B2, dW1, dB1, dW2, dB2, alpha)\n",
    "        \n",
    "        if i % 50 == 0:\n",
    "            print('Iteration: ', i)\n",
    "            print('Accuracy: ', get_accuracy(get_predictions(A2), Y))\n",
    "            \n",
    "    return W1, B1, W2, B2"
   ]
  },
  {
   "cell_type": "code",
   "execution_count": 46,
   "id": "cc69dfa1",
   "metadata": {},
   "outputs": [
    {
     "name": "stdout",
     "output_type": "stream",
     "text": [
      "Iteration:  0\n",
      "[6 6 6 ... 6 5 6] [5 6 8 ... 4 3 0]\n",
      "Accuracy:  0.10680487804878049\n",
      "Iteration:  50\n",
      "[6 2 8 ... 4 3 3] [5 6 8 ... 4 3 0]\n",
      "Accuracy:  0.6119024390243902\n",
      "Iteration:  100\n",
      "[8 6 8 ... 4 3 8] [5 6 8 ... 4 3 0]\n",
      "Accuracy:  0.7430487804878049\n",
      "Iteration:  150\n",
      "[8 6 8 ... 4 3 8] [5 6 8 ... 4 3 0]\n",
      "Accuracy:  0.7925853658536586\n",
      "Iteration:  200\n",
      "[8 6 8 ... 4 5 8] [5 6 8 ... 4 3 0]\n",
      "Accuracy:  0.8173414634146341\n",
      "Iteration:  250\n",
      "[8 6 8 ... 4 5 0] [5 6 8 ... 4 3 0]\n",
      "Accuracy:  0.8348780487804878\n",
      "Iteration:  300\n",
      "[8 6 8 ... 4 5 0] [5 6 8 ... 4 3 0]\n",
      "Accuracy:  0.8457073170731707\n",
      "Iteration:  350\n",
      "[8 6 8 ... 4 5 0] [5 6 8 ... 4 3 0]\n",
      "Accuracy:  0.8535365853658536\n",
      "Iteration:  400\n",
      "[8 6 8 ... 4 5 0] [5 6 8 ... 4 3 0]\n",
      "Accuracy:  0.8611707317073171\n",
      "Iteration:  450\n",
      "[8 6 8 ... 4 5 0] [5 6 8 ... 4 3 0]\n",
      "Accuracy:  0.8670243902439024\n",
      "Iteration:  500\n",
      "[8 6 8 ... 4 5 0] [5 6 8 ... 4 3 0]\n",
      "Accuracy:  0.8715853658536585\n",
      "Iteration:  550\n",
      "[8 6 8 ... 4 5 0] [5 6 8 ... 4 3 0]\n",
      "Accuracy:  0.875219512195122\n",
      "Iteration:  600\n",
      "[5 6 8 ... 4 5 0] [5 6 8 ... 4 3 0]\n",
      "Accuracy:  0.8790731707317073\n",
      "Iteration:  650\n",
      "[5 6 8 ... 4 5 0] [5 6 8 ... 4 3 0]\n",
      "Accuracy:  0.882\n",
      "Iteration:  700\n",
      "[5 6 8 ... 4 5 0] [5 6 8 ... 4 3 0]\n",
      "Accuracy:  0.8849024390243903\n",
      "Iteration:  750\n",
      "[5 6 8 ... 4 5 0] [5 6 8 ... 4 3 0]\n",
      "Accuracy:  0.888219512195122\n",
      "Iteration:  800\n",
      "[5 6 8 ... 4 5 0] [5 6 8 ... 4 3 0]\n",
      "Accuracy:  0.8901463414634146\n",
      "Iteration:  850\n",
      "[5 6 8 ... 4 5 0] [5 6 8 ... 4 3 0]\n",
      "Accuracy:  0.8923414634146342\n",
      "Iteration:  900\n",
      "[5 6 8 ... 4 5 0] [5 6 8 ... 4 3 0]\n",
      "Accuracy:  0.8942439024390244\n",
      "Iteration:  950\n",
      "[5 6 8 ... 4 3 0] [5 6 8 ... 4 3 0]\n",
      "Accuracy:  0.8962439024390244\n"
     ]
    }
   ],
   "source": [
    "W1, B1, W2, B2 = gradient_descent(X_train, Y_train, 1000, 0.2)"
   ]
  },
  {
   "cell_type": "code",
   "execution_count": 47,
   "id": "285e892e",
   "metadata": {},
   "outputs": [],
   "source": [
    "def make_predictions(X, W1, b1, W2, b2):\n",
    "    _, _, _, A2 = forward_prop(W1, b1, W2, b2, X)\n",
    "    predictions = get_predictions(A2)\n",
    "    return predictions\n",
    "\n",
    "def test_prediction(index, W1, b1, W2, b2):\n",
    "    current_image = X_train[:, index, None]\n",
    "    prediction = make_predictions(X_train[:, index, None], W1, b1, W2, b2)\n",
    "    label = Y_train[index]\n",
    "    print(\"Prediction: \", prediction)\n",
    "    print(\"Label: \", label)\n",
    "    \n",
    "    current_image = current_image.reshape((28, 28)) * 255\n",
    "    plt.gray()\n",
    "    plt.imshow(current_image, interpolation='nearest')\n",
    "    plt.show()"
   ]
  },
  {
   "cell_type": "code",
   "execution_count": 48,
   "id": "52438b4b",
   "metadata": {},
   "outputs": [
    {
     "name": "stdout",
     "output_type": "stream",
     "text": [
      "Prediction:  [5]\n",
      "Label:  5\n"
     ]
    },
    {
     "data": {
      "image/png": "[encoded data removed]",
      "text/plain": [
       "<Figure size 432x288 with 1 Axes>"
      ]
     },
     "metadata": {
      "needs_background": "light"
     },
     "output_type": "display_data"
    },
    {
     "name": "stdout",
     "output_type": "stream",
     "text": [
      "Prediction:  [6]\n",
      "Label:  6\n"
     ]
    },
    {
     "data": {
      "image/png": "[encoded data removed]",
      "text/plain": [
       "<Figure size 432x288 with 1 Axes>"
      ]
     },
     "metadata": {
      "needs_background": "light"
     },
     "output_type": "display_data"
    },
    {
     "name": "stdout",
     "output_type": "stream",
     "text": [
      "Prediction:  [8]\n",
      "Label:  8\n"
     ]
    },
    {
     "data": {
      "image/png": "[encoded data removed]",
      "text/plain": [
       "<Figure size 432x288 with 1 Axes>"
      ]
     },
     "metadata": {
      "needs_background": "light"
     },
     "output_type": "display_data"
    },
    {
     "name": "stdout",
     "output_type": "stream",
     "text": [
      "Prediction:  [8]\n",
      "Label:  8\n"
     ]
    },
    {
     "data": {
      "image/png": "[encoded data removed]",
      "text/plain": [
       "<Figure size 432x288 with 1 Axes>"
      ]
     },
     "metadata": {
      "needs_background": "light"
     },
     "output_type": "display_data"
    }
   ],
   "source": [
    "test_prediction(0, W1, B1, W2, B2)\n",
    "test_prediction(1, W1, B1, W2, B2)\n",
    "test_prediction(2, W1, B1, W2, B2)\n",
    "test_prediction(3, W1, B1, W2, B2)"
   ]
  },
  {
   "cell_type": "code",
   "execution_count": null,
   "id": "18dd6c2e",
   "metadata": {},
   "outputs": [],
   "source": []
  },
  {
   "cell_type": "code",
   "execution_count": null,
   "id": "d1e0ed1b",
   "metadata": {},
   "outputs": [],
   "source": []
  }
 ],
 "metadata": {
  "kernelspec": {
   "display_name": "Python 3 (ipykernel)",
   "language": "python",
   "name": "python3"
  },
  "language_info": {
   "codemirror_mode": {
    "name": "ipython",
    "version": 3
   },
   "file_extension": ".py",
   "mimetype": "text/x-python",
   "name": "python",
   "nbconvert_exporter": "python",
   "pygments_lexer": "ipython3",
   "version": "3.9.6"
  }
 },
 "nbformat": 4,
 "nbformat_minor": 5
}
