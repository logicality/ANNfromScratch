{
 "cells": [
  {
   "cell_type": "code",
   "execution_count": 1,
   "id": "51b30c36",
   "metadata": {},
   "outputs": [],
   "source": [
    "# standard libraries to import\n",
    "import numpy as np\n",
    "import pandas as pd\n",
    "from matplotlib import pyplot as plt\n",
    "\n",
    "# Set the display format to show only 2 decimal places\n",
    "np.set_printoptions(precision=2, suppress=True)"
   ]
  },
  {
   "cell_type": "code",
   "execution_count": 2,
   "id": "e677995f",
   "metadata": {},
   "outputs": [],
   "source": [
    "# import training data\n",
    "data = pd.read_csv('data/train.csv')"
   ]
  },
  {
   "cell_type": "code",
   "execution_count": 3,
   "id": "6661cbbc",
   "metadata": {},
   "outputs": [
    {
     "data": {
      "text/html": [
       "<div>\n",
       "<style scoped>\n",
       "    .dataframe tbody tr th:only-of-type {\n",
       "        vertical-align: middle;\n",
       "    }\n",
       "\n",
       "    .dataframe tbody tr th {\n",
       "        vertical-align: top;\n",
       "    }\n",
       "\n",
       "    .dataframe thead th {\n",
       "        text-align: right;\n",
       "    }\n",
       "</style>\n",
       "<table border=\"1\" class=\"dataframe\">\n",
       "  <thead>\n",
       "    <tr style=\"text-align: right;\">\n",
       "      <th></th>\n",
       "      <th>label</th>\n",
       "      <th>pixel0</th>\n",
       "      <th>pixel1</th>\n",
       "      <th>pixel2</th>\n",
       "      <th>pixel3</th>\n",
       "      <th>pixel4</th>\n",
       "      <th>pixel5</th>\n",
       "      <th>pixel6</th>\n",
       "      <th>pixel7</th>\n",
       "      <th>pixel8</th>\n",
       "      <th>...</th>\n",
       "      <th>pixel774</th>\n",
       "      <th>pixel775</th>\n",
       "      <th>pixel776</th>\n",
       "      <th>pixel777</th>\n",
       "      <th>pixel778</th>\n",
       "      <th>pixel779</th>\n",
       "      <th>pixel780</th>\n",
       "      <th>pixel781</th>\n",
       "      <th>pixel782</th>\n",
       "      <th>pixel783</th>\n",
       "    </tr>\n",
       "  </thead>\n",
       "  <tbody>\n",
       "    <tr>\n",
       "      <th>0</th>\n",
       "      <td>1</td>\n",
       "      <td>0</td>\n",
       "      <td>0</td>\n",
       "      <td>0</td>\n",
       "      <td>0</td>\n",
       "      <td>0</td>\n",
       "      <td>0</td>\n",
       "      <td>0</td>\n",
       "      <td>0</td>\n",
       "      <td>0</td>\n",
       "      <td>...</td>\n",
       "      <td>0</td>\n",
       "      <td>0</td>\n",
       "      <td>0</td>\n",
       "      <td>0</td>\n",
       "      <td>0</td>\n",
       "      <td>0</td>\n",
       "      <td>0</td>\n",
       "      <td>0</td>\n",
       "      <td>0</td>\n",
       "      <td>0</td>\n",
       "    </tr>\n",
       "    <tr>\n",
       "      <th>1</th>\n",
       "      <td>0</td>\n",
       "      <td>0</td>\n",
       "      <td>0</td>\n",
       "      <td>0</td>\n",
       "      <td>0</td>\n",
       "      <td>0</td>\n",
       "      <td>0</td>\n",
       "      <td>0</td>\n",
       "      <td>0</td>\n",
       "      <td>0</td>\n",
       "      <td>...</td>\n",
       "      <td>0</td>\n",
       "      <td>0</td>\n",
       "      <td>0</td>\n",
       "      <td>0</td>\n",
       "      <td>0</td>\n",
       "      <td>0</td>\n",
       "      <td>0</td>\n",
       "      <td>0</td>\n",
       "      <td>0</td>\n",
       "      <td>0</td>\n",
       "    </tr>\n",
       "    <tr>\n",
       "      <th>2</th>\n",
       "      <td>1</td>\n",
       "      <td>0</td>\n",
       "      <td>0</td>\n",
       "      <td>0</td>\n",
       "      <td>0</td>\n",
       "      <td>0</td>\n",
       "      <td>0</td>\n",
       "      <td>0</td>\n",
       "      <td>0</td>\n",
       "      <td>0</td>\n",
       "      <td>...</td>\n",
       "      <td>0</td>\n",
       "      <td>0</td>\n",
       "      <td>0</td>\n",
       "      <td>0</td>\n",
       "      <td>0</td>\n",
       "      <td>0</td>\n",
       "      <td>0</td>\n",
       "      <td>0</td>\n",
       "      <td>0</td>\n",
       "      <td>0</td>\n",
       "    </tr>\n",
       "    <tr>\n",
       "      <th>3</th>\n",
       "      <td>4</td>\n",
       "      <td>0</td>\n",
       "      <td>0</td>\n",
       "      <td>0</td>\n",
       "      <td>0</td>\n",
       "      <td>0</td>\n",
       "      <td>0</td>\n",
       "      <td>0</td>\n",
       "      <td>0</td>\n",
       "      <td>0</td>\n",
       "      <td>...</td>\n",
       "      <td>0</td>\n",
       "      <td>0</td>\n",
       "      <td>0</td>\n",
       "      <td>0</td>\n",
       "      <td>0</td>\n",
       "      <td>0</td>\n",
       "      <td>0</td>\n",
       "      <td>0</td>\n",
       "      <td>0</td>\n",
       "      <td>0</td>\n",
       "    </tr>\n",
       "    <tr>\n",
       "      <th>4</th>\n",
       "      <td>0</td>\n",
       "      <td>0</td>\n",
       "      <td>0</td>\n",
       "      <td>0</td>\n",
       "      <td>0</td>\n",
       "      <td>0</td>\n",
       "      <td>0</td>\n",
       "      <td>0</td>\n",
       "      <td>0</td>\n",
       "      <td>0</td>\n",
       "      <td>...</td>\n",
       "      <td>0</td>\n",
       "      <td>0</td>\n",
       "      <td>0</td>\n",
       "      <td>0</td>\n",
       "      <td>0</td>\n",
       "      <td>0</td>\n",
       "      <td>0</td>\n",
       "      <td>0</td>\n",
       "      <td>0</td>\n",
       "      <td>0</td>\n",
       "    </tr>\n",
       "  </tbody>\n",
       "</table>\n",
       "<p>5 rows × 785 columns</p>\n",
       "</div>"
      ],
      "text/plain": [
       "   label  pixel0  pixel1  pixel2  pixel3  pixel4  pixel5  pixel6  pixel7  \\\n",
       "0      1       0       0       0       0       0       0       0       0   \n",
       "1      0       0       0       0       0       0       0       0       0   \n",
       "2      1       0       0       0       0       0       0       0       0   \n",
       "3      4       0       0       0       0       0       0       0       0   \n",
       "4      0       0       0       0       0       0       0       0       0   \n",
       "\n",
       "   pixel8  ...  pixel774  pixel775  pixel776  pixel777  pixel778  pixel779  \\\n",
       "0       0  ...         0         0         0         0         0         0   \n",
       "1       0  ...         0         0         0         0         0         0   \n",
       "2       0  ...         0         0         0         0         0         0   \n",
       "3       0  ...         0         0         0         0         0         0   \n",
       "4       0  ...         0         0         0         0         0         0   \n",
       "\n",
       "   pixel780  pixel781  pixel782  pixel783  \n",
       "0         0         0         0         0  \n",
       "1         0         0         0         0  \n",
       "2         0         0         0         0  \n",
       "3         0         0         0         0  \n",
       "4         0         0         0         0  \n",
       "\n",
       "[5 rows x 785 columns]"
      ]
     },
     "execution_count": 3,
     "metadata": {},
     "output_type": "execute_result"
    }
   ],
   "source": [
    "# each row is a training example, i.e. each row is an image\n",
    "data.head()"
   ]
  },
  {
   "cell_type": "code",
   "execution_count": 4,
   "id": "68218308",
   "metadata": {},
   "outputs": [
    {
     "data": {
      "text/plain": [
       "array([[1, 0, 0, ..., 0, 0, 0],\n",
       "       [0, 0, 0, ..., 0, 0, 0],\n",
       "       [1, 0, 0, ..., 0, 0, 0],\n",
       "       ...,\n",
       "       [7, 0, 0, ..., 0, 0, 0],\n",
       "       [6, 0, 0, ..., 0, 0, 0],\n",
       "       [9, 0, 0, ..., 0, 0, 0]])"
      ]
     },
     "execution_count": 4,
     "metadata": {},
     "output_type": "execute_result"
    }
   ],
   "source": [
    "# convert data to numpy array\n",
    "data = np.array(data)\n",
    "data"
   ]
  },
  {
   "cell_type": "code",
   "execution_count": 5,
   "id": "a527f991",
   "metadata": {},
   "outputs": [
    {
     "data": {
      "text/plain": [
       "(42000, 785)"
      ]
     },
     "execution_count": 5,
     "metadata": {},
     "output_type": "execute_result"
    }
   ],
   "source": [
    "# row, column (column is +1 cause of label column)\n",
    "data.shape"
   ]
  },
  {
   "cell_type": "code",
   "execution_count": 6,
   "id": "ab136c24",
   "metadata": {},
   "outputs": [
    {
     "data": {
      "text/plain": [
       "array([[9, 0, 0, ..., 0, 0, 0],\n",
       "       [5, 0, 0, ..., 0, 0, 0],\n",
       "       [4, 0, 0, ..., 0, 0, 0],\n",
       "       ...,\n",
       "       [9, 0, 0, ..., 0, 0, 0],\n",
       "       [1, 0, 0, ..., 0, 0, 0],\n",
       "       [5, 0, 0, ..., 0, 0, 0]])"
      ]
     },
     "execution_count": 6,
     "metadata": {},
     "output_type": "execute_result"
    }
   ],
   "source": [
    "# shuffle the elements, in-place\n",
    "# essentially,k shuffles the order of images, since an element (a list) is an image\n",
    "np.random.shuffle(data)\n",
    "data"
   ]
  },
  {
   "cell_type": "code",
   "execution_count": 7,
   "id": "d7a0ce42",
   "metadata": {},
   "outputs": [],
   "source": [
    "# validation set: transforming to make each training example a column\n",
    "data_dev = data[0:1000].T\n",
    "# since first row is labels now, this works cause of the transform\n",
    "Y_dev = data_dev[0]\n",
    "X_dev = data_dev[1:data_dev.shape[0]]\n",
    "# normalize values, this is an important step, but why? \n",
    "# it's probably because the weights are so small, they work better with smaller values, maybe\n",
    "# also easier to process smaller values\n",
    "X_dev = X_dev / 255\n",
    "\n",
    "# training data\n",
    "data_train = data[1000:data.shape[0]].T\n",
    "Y_train = data_train[0]\n",
    "X_train = data_train[1:data_train.shape[0]]\n",
    "X_train = X_train / 255"
   ]
  },
  {
   "cell_type": "code",
   "execution_count": 8,
   "id": "8a8779cf",
   "metadata": {},
   "outputs": [
    {
     "data": {
      "text/plain": [
       "array([3, 6, 3, ..., 9, 1, 5])"
      ]
     },
     "execution_count": 8,
     "metadata": {},
     "output_type": "execute_result"
    }
   ],
   "source": [
    "Y_train # our labels"
   ]
  },
  {
   "cell_type": "code",
   "execution_count": 9,
   "id": "3dbe9fb0",
   "metadata": {},
   "outputs": [
    {
     "data": {
      "text/plain": [
       "array([[0., 0., 0., ..., 0., 0., 0.],\n",
       "       [0., 0., 0., ..., 0., 0., 0.],\n",
       "       [0., 0., 0., ..., 0., 0., 0.],\n",
       "       ...,\n",
       "       [0., 0., 0., ..., 0., 0., 0.],\n",
       "       [0., 0., 0., ..., 0., 0., 0.],\n",
       "       [0., 0., 0., ..., 0., 0., 0.]])"
      ]
     },
     "execution_count": 9,
     "metadata": {},
     "output_type": "execute_result"
    }
   ],
   "source": [
    "X_train # our image data"
   ]
  },
  {
   "cell_type": "code",
   "execution_count": 10,
   "id": "26063f99",
   "metadata": {},
   "outputs": [
    {
     "data": {
      "text/plain": [
       "array([0., 0., 0., ..., 0., 0., 0.])"
      ]
     },
     "execution_count": 10,
     "metadata": {},
     "output_type": "execute_result"
    }
   ],
   "source": [
    "X_train[0]"
   ]
  },
  {
   "cell_type": "code",
   "execution_count": 11,
   "id": "ee88399e",
   "metadata": {},
   "outputs": [
    {
     "data": {
      "text/plain": [
       "(41000,)"
      ]
     },
     "execution_count": 11,
     "metadata": {},
     "output_type": "execute_result"
    }
   ],
   "source": [
    "X_train[0].shape # this is the first row, cause there are 42k samples in total"
   ]
  },
  {
   "cell_type": "code",
   "execution_count": 12,
   "id": "98aa8435",
   "metadata": {},
   "outputs": [
    {
     "data": {
      "text/plain": [
       "(784, 41000)"
      ]
     },
     "execution_count": 12,
     "metadata": {},
     "output_type": "execute_result"
    }
   ],
   "source": [
    "# gives rows, cols. Makes sense, cause each column is an example\n",
    "# so # of rows will be # of pixels in an image essentially\n",
    "X_train[:].shape "
   ]
  },
  {
   "cell_type": "code",
   "execution_count": 13,
   "id": "f363048d",
   "metadata": {},
   "outputs": [
    {
     "data": {
      "text/plain": [
       "(784,)"
      ]
     },
     "execution_count": 13,
     "metadata": {},
     "output_type": "execute_result"
    }
   ],
   "source": [
    "X_train[:,0].shape # this is the first column, essentially first element of each list"
   ]
  },
  {
   "cell_type": "code",
   "execution_count": 14,
   "id": "3f9e4b1d",
   "metadata": {},
   "outputs": [
    {
     "data": {
      "text/plain": [
       "0.438165132895873"
      ]
     },
     "execution_count": 14,
     "metadata": {},
     "output_type": "execute_result"
    }
   ],
   "source": [
    "# randn: mean = 0, variance = 1, normal distribution\n",
    "# rand: uniform distribution over [0,1)]\n",
    "np.random.rand()"
   ]
  },
  {
   "cell_type": "code",
   "execution_count": 15,
   "id": "90c10bd8",
   "metadata": {},
   "outputs": [],
   "source": [
    "# weights and biases for hidden layers and output layer\n",
    "# lC = layerCount, nC = neuronCount, fC = featureCount, cC = classLabelCount\n",
    "def init_params(lC, nC, fC, cC):\n",
    "    # adding the first hidden layer, cause it's based on fC\n",
    "    weights = [np.random.rand(nC, fC) - 0.5]\n",
    "    biases = [np.random.rand(nC, 1) - 0.5]\n",
    "\n",
    "    for i in range(1, lC):\n",
    "        weights_layer = np.random.rand(nC, nC) - 0.5\n",
    "        weights.append(weights_layer)\n",
    "\n",
    "        bias_layer = np.random.rand(nC, 1) - 0.5\n",
    "        biases.append(bias_layer)\n",
    "\n",
    "    # output layer, # of neurons = class labels\n",
    "    weights.append(np.random.rand(cC, nC) - 0.5)\n",
    "    biases.append(np.random.rand(cC, 1)  - 0.5)\n",
    "    \n",
    "    return weights, biases\n",
    "\n",
    "# essentially linear after 0, prior to 0, outputs 0\n",
    "def ReLU(Z):\n",
    "    return np.maximum(Z, 0) # element wise\n",
    "\n",
    "# need clarification here...\n",
    "def softmax(Z):\n",
    "    # np.sum() preserves each column, collapses the rows\n",
    "    # we still want to preserve each column\n",
    "    # np.exp(Z) is element wise\n",
    "    # so we are dividing each element with the sum of elements in that same column\n",
    "    A = np.exp(Z) / sum(np.exp(Z)) # not np.sum()?\n",
    "    \n",
    "    return A\n",
    "\n",
    "# encoding labels into a vector format\n",
    "def one_hot(Y):\n",
    "    # creating empty matrix of sampleSize, # of classes\n",
    "    one_hot_Y = np.zeros((Y.size, Y.max()+1))\n",
    "    # based on the label value, fill that element in each array to be 1\n",
    "    one_hot_Y[np.arange(Y.size), Y] = 1\n",
    "    # to get each column to be an example\n",
    "    one_hot_Y = one_hot_Y.T\n",
    "    \n",
    "    return one_hot_Y\n",
    "\n",
    "def forward_prop(X, weights, biases, lC):\n",
    "    # first hidden layer\n",
    "    Z_layer = weights[0].dot(X) + biases[0]\n",
    "    A_layer = ReLU(Z_layer)\n",
    "\n",
    "    Zs = [Z_layer]\n",
    "    As = [A_layer]\n",
    "\n",
    "    # remaining hiddden layers\n",
    "    for i in range(1, lC):\n",
    "        Z_layer = weights[i].dot(As[i-1]) + biases[i]\n",
    "        A_layer = ReLU(Z_layer)\n",
    "\n",
    "        Zs.append(Z_layer)\n",
    "        As.append(A_layer)\n",
    "\n",
    "    # output layer\n",
    "    Z_layer = weights[-1].dot(As[-1]) + biases[-1]\n",
    "    A_layer = softmax(Z_layer)\n",
    "\n",
    "    Zs.append(Z_layer)\n",
    "    As.append(A_layer)\n",
    "    \n",
    "    return Zs, As\n",
    "\n",
    "# derivative past 0 is 1, cause y=x, prior to 0, it's 0. So this returns 1 or 0\n",
    "def deriv_ReLU(Z):\n",
    "    return Z > 0\n",
    "\n",
    "# essentially reverse logic of forward_prop, this was a tough one!!!!!!\n",
    "def back_prop(Zs, As, weights, biases, X, Y, lC):\n",
    "    m = X_train.shape[1] # number of examples\n",
    "    \n",
    "    # last layer is based on output, that's why the hot_y part...hot y...sexy\n",
    "    dZ_layer = As[-1] - one_hot(Y)\n",
    "    dW_layer = 1/m * dZ_layer.dot(As[-2].T)\n",
    "    dB_layer = 1/m * np.sum(dZ_layer)\n",
    "\n",
    "    dWs = [dW_layer]\n",
    "    dBs = [dB_layer]\n",
    "\n",
    "    # logic for hidden layers\n",
    "    for i in range(1, lC):\n",
    "        dZ_layer = weights[-i].T.dot(dZ_layer)*deriv_ReLU(Zs[-i-1])\n",
    "        dW_layer = 1/m * dZ_layer.dot(As[-i-2].T)\n",
    "        dB_layer = 1/m * np.sum(dZ_layer)\n",
    "\n",
    "        dWs.append(dW_layer)\n",
    "        dBs.append(dB_layer)\n",
    "\n",
    "    # logic for first hidden layer, cause it depends on input\n",
    "    dZ_layer = weights[1].T.dot(dZ_layer)*deriv_ReLU(Zs[0])\n",
    "    dW_layer = 1/m * dZ_layer.dot(X.T)\n",
    "    dB_layer = 1/m * np.sum(dZ_layer)\n",
    "\n",
    "    dWs.append(dW_layer)\n",
    "    dBs.append(dB_layer)\n",
    "    \n",
    "    return dWs, dBs\n",
    "\n",
    "# output of output layer, in probabilities \n",
    "def get_predictions(A):\n",
    "    return np.argmax(A, 0)\n",
    "\n",
    "def get_accuracy(predictions, Y):\n",
    "    print(predictions, Y)\n",
    "    # essentially when prediciton matches Y, sum those, vs. total Y size\n",
    "    return np.sum(predictions == Y) / Y.size \n",
    "\n",
    "# optimizer, based on alpha (learning rate)\n",
    "# input will be a numpy array of weights and biases, and derivates\n",
    "def update_params(weights, biases, dWs, dBs, alpha):\n",
    "    for i in range(len(weights)):\n",
    "        weights[i] = weights[i] - alpha*dWs[-i-1]\n",
    "        biases[i] = biases[i] - alpha*dBs[-i-1]\n",
    "    \n",
    "    return weights, biases"
   ]
  },
  {
   "cell_type": "code",
   "execution_count": 16,
   "id": "87004254",
   "metadata": {},
   "outputs": [],
   "source": [
    "def gradient_descent(X, Y, iterations, lC, nC, cC, alpha):\n",
    "    fC = X_train.shape[0]\n",
    "    \n",
    "    weights, biases = init_params(lC, nC, fC, cC)\n",
    "\n",
    "    for i in range(iterations):\n",
    "        Zs, As = forward_prop(X_train, weights, biases, lC)\n",
    "        dWs, dBs = back_prop(Zs, As, weights, biases, X_train, Y_train, lC)\n",
    "\n",
    "        weights, biases = update_params(weights, biases, dWs, dBs, alpha)\n",
    "\n",
    "        if i % 50 == 0:\n",
    "            print('Iteration: ', i)\n",
    "            print('Accuracy: ', get_accuracy(get_predictions(As[-1]), Y_train))\n",
    "            \n",
    "    return weights, biases"
   ]
  },
  {
   "cell_type": "code",
   "execution_count": 17,
   "id": "bc372f08",
   "metadata": {},
   "outputs": [
    {
     "name": "stdout",
     "output_type": "stream",
     "text": [
      "Iteration:  0\n",
      "[5 1 7 ... 2 2 7] [3 6 3 ... 9 1 5]\n",
      "Accuracy:  0.11119512195121951\n",
      "Iteration:  50\n",
      "[5 1 2 ... 4 2 5] [3 6 3 ... 9 1 5]\n",
      "Accuracy:  0.36958536585365853\n",
      "Iteration:  100\n",
      "[5 2 2 ... 9 1 5] [3 6 3 ... 9 1 5]\n",
      "Accuracy:  0.5293414634146342\n",
      "Iteration:  150\n",
      "[5 2 2 ... 9 1 5] [3 6 3 ... 9 1 5]\n",
      "Accuracy:  0.6409756097560976\n",
      "Iteration:  200\n",
      "[5 2 2 ... 9 1 5] [3 6 3 ... 9 1 5]\n",
      "Accuracy:  0.7223658536585366\n",
      "Iteration:  250\n",
      "[3 2 2 ... 9 1 5] [3 6 3 ... 9 1 5]\n",
      "Accuracy:  0.7731951219512195\n",
      "Iteration:  300\n",
      "[3 2 3 ... 9 1 5] [3 6 3 ... 9 1 5]\n",
      "Accuracy:  0.8003170731707318\n",
      "Iteration:  350\n",
      "[3 2 3 ... 9 1 5] [3 6 3 ... 9 1 5]\n",
      "Accuracy:  0.8171219512195121\n",
      "Iteration:  400\n",
      "[3 2 3 ... 9 1 5] [3 6 3 ... 9 1 5]\n",
      "Accuracy:  0.8291219512195122\n",
      "Iteration:  450\n",
      "[3 2 3 ... 9 1 5] [3 6 3 ... 9 1 5]\n",
      "Accuracy:  0.8394146341463414\n",
      "Iteration:  500\n",
      "[3 2 3 ... 9 1 5] [3 6 3 ... 9 1 5]\n",
      "Accuracy:  0.8470243902439024\n",
      "Iteration:  550\n",
      "[3 2 3 ... 9 1 5] [3 6 3 ... 9 1 5]\n",
      "Accuracy:  0.852170731707317\n",
      "Iteration:  600\n",
      "[3 2 3 ... 9 1 5] [3 6 3 ... 9 1 5]\n",
      "Accuracy:  0.8570487804878049\n",
      "Iteration:  650\n",
      "[3 2 3 ... 9 1 5] [3 6 3 ... 9 1 5]\n",
      "Accuracy:  0.8615365853658536\n",
      "Iteration:  700\n",
      "[3 2 3 ... 9 1 5] [3 6 3 ... 9 1 5]\n",
      "Accuracy:  0.8648536585365854\n",
      "Iteration:  750\n",
      "[3 2 3 ... 9 1 5] [3 6 3 ... 9 1 5]\n",
      "Accuracy:  0.8678780487804878\n",
      "Iteration:  800\n",
      "[3 2 3 ... 9 1 5] [3 6 3 ... 9 1 5]\n",
      "Accuracy:  0.8704878048780488\n",
      "Iteration:  850\n",
      "[3 2 3 ... 9 1 0] [3 6 3 ... 9 1 5]\n",
      "Accuracy:  0.8731951219512195\n",
      "Iteration:  900\n",
      "[3 2 3 ... 9 1 0] [3 6 3 ... 9 1 5]\n",
      "Accuracy:  0.8755853658536585\n",
      "Iteration:  950\n",
      "[3 2 3 ... 9 1 0] [3 6 3 ... 9 1 5]\n",
      "Accuracy:  0.8775853658536585\n"
     ]
    }
   ],
   "source": [
    "# define inputs to the network design\n",
    "lC = 1 # hidden layerCount, does not include output layer > 0\n",
    "nC = 10 # neuronCount > 0\n",
    "cC = 10 # classLabelCount\n",
    "alpha = .1 # learning rate\n",
    "iterations = 1000\n",
    "\n",
    "weights, biases = gradient_descent(X_train, Y_train, iterations, lC, nC, cC, alpha)"
   ]
  },
  {
   "cell_type": "code",
   "execution_count": 18,
   "id": "48875dea",
   "metadata": {},
   "outputs": [],
   "source": [
    "def make_predictions(X, weights, biases, lC):\n",
    "    _, As = forward_prop(X, weights, biases, lC)\n",
    "    prediction = get_predictions(As[-1]) # last one is from the output layer\n",
    "    \n",
    "    return prediction "
   ]
  },
  {
   "cell_type": "code",
   "execution_count": 21,
   "id": "87060d83",
   "metadata": {},
   "outputs": [],
   "source": [
    "def test_prediction(index, weights, biases, lC):\n",
    "    current_image = X_dev[:, index, None]\n",
    "    prediction = make_predictions(X_dev[:, index, None], weights, biases, lC)\n",
    "    label = Y_dev[index]\n",
    "    print(\"Prediction: \", prediction)\n",
    "    print(\"Label: \", label)\n",
    "    \n",
    "    current_image = current_image.reshape((28, 28)) * 255\n",
    "    plt.gray()\n",
    "    plt.imshow(current_image, interpolation='nearest')\n",
    "    plt.show()"
   ]
  },
  {
   "cell_type": "code",
   "execution_count": 22,
   "id": "50196029",
   "metadata": {},
   "outputs": [
    {
     "name": "stdout",
     "output_type": "stream",
     "text": [
      "Prediction:  [9]\n",
      "Label:  9\n"
     ]
    },
    {
     "data": {
      "image/png": "[encoded data removed]",
      "text/plain": [
       "<Figure size 432x288 with 1 Axes>"
      ]
     },
     "metadata": {
      "needs_background": "light"
     },
     "output_type": "display_data"
    },
    {
     "name": "stdout",
     "output_type": "stream",
     "text": [
      "Prediction:  [5]\n",
      "Label:  5\n"
     ]
    },
    {
     "data": {
      "image/png": "[encoded data removed]",
      "text/plain": [
       "<Figure size 432x288 with 1 Axes>"
      ]
     },
     "metadata": {
      "needs_background": "light"
     },
     "output_type": "display_data"
    },
    {
     "name": "stdout",
     "output_type": "stream",
     "text": [
      "Prediction:  [4]\n",
      "Label:  4\n"
     ]
    },
    {
     "data": {
      "image/png": "[encoded data removed]",
      "text/plain": [
       "<Figure size 432x288 with 1 Axes>"
      ]
     },
     "metadata": {
      "needs_background": "light"
     },
     "output_type": "display_data"
    },
    {
     "name": "stdout",
     "output_type": "stream",
     "text": [
      "Prediction:  [7]\n",
      "Label:  7\n"
     ]
    },
    {
     "data": {
      "image/png": "[encoded data removed]",
      "text/plain": [
       "<Figure size 432x288 with 1 Axes>"
      ]
     },
     "metadata": {
      "needs_background": "light"
     },
     "output_type": "display_data"
    },
    {
     "name": "stdout",
     "output_type": "stream",
     "text": [
      "Prediction:  [5]\n",
      "Label:  5\n"
     ]
    },
    {
     "data": {
      "image/png": "[encoded data removed]",
      "text/plain": [
       "<Figure size 432x288 with 1 Axes>"
      ]
     },
     "metadata": {
      "needs_background": "light"
     },
     "output_type": "display_data"
    }
   ],
   "source": [
    "test_prediction(0, weights, biases, lC)\n",
    "test_prediction(1, weights, biases, lC)\n",
    "test_prediction(2, weights, biases, lC)\n",
    "test_prediction(3, weights, biases, lC)\n",
    "test_prediction(4, weights, biases, lC)"
   ]
  },
  {
   "cell_type": "code",
   "execution_count": null,
   "id": "18dd6c2e",
   "metadata": {},
   "outputs": [],
   "source": []
  },
  {
   "cell_type": "code",
   "execution_count": null,
   "id": "d1e0ed1b",
   "metadata": {},
   "outputs": [],
   "source": []
  }
 ],
 "metadata": {
  "kernelspec": {
   "display_name": "Python 3 (ipykernel)",
   "language": "python",
   "name": "python3"
  },
  "language_info": {
   "codemirror_mode": {
    "name": "ipython",
    "version": 3
   },
   "file_extension": ".py",
   "mimetype": "text/x-python",
   "name": "python",
   "nbconvert_exporter": "python",
   "pygments_lexer": "ipython3",
   "version": "3.9.6"
  }
 },
 "nbformat": 4,
 "nbformat_minor": 5
}
